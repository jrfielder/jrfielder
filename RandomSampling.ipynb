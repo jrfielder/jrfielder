{
  "nbformat": 4,
  "nbformat_minor": 0,
  "metadata": {
    "colab": {
      "provenance": [],
      "include_colab_link": true
    },
    "kernelspec": {
      "name": "python3",
      "display_name": "Python 3"
    },
    "language_info": {
      "name": "python"
    }
  },
  "cells": [
    {
      "cell_type": "markdown",
      "metadata": {
        "id": "view-in-github",
        "colab_type": "text"
      },
      "source": [
        "<a href=\"https://colab.research.google.com/github/jrfielder/jrfielder/blob/main/RandomSampling.ipynb\" target=\"_parent\"><img src=\"https://colab.research.google.com/assets/colab-badge.svg\" alt=\"Open In Colab\"/></a>"
      ]
    },
    {
      "cell_type": "markdown",
      "metadata": {
        "id": "0WFqgbZpgOPl"
      },
      "source": [
        "## Discrete Probability Distribution\n",
        "\n",
        "A discrete probability distribution is a probability distribution that can take on a countable number of values.In the case where the range of values is countably infinite, these values have to decline to zero fast enough for the probabilities to add up to 1. For example, if ${\\displaystyle \\operatorname {P} (X=n)={\\tfrac {1}{2^{n}}}}$ for n = 1, 2, ..., the sum of probabilities would be 1/2 + 1/4 + 1/8 + ... = 1  \n",
        "\n",
        "Examples include the Poisson distribution, the Bernoulli distribution, and the binomial distribution.\n",
        "\n",
        "When a sample (a set of observations) is drawn from a larger population, the sample points have an empirical distribution that is discrete, and which provides information about the population distribution.\n",
        "\n",
        "\n",
        "[Wikipedia](https://en.wikipedia.org/wiki/Probability_distribution)\n",
        "\n",
        "## Probability Mass Function (PMF)\n",
        "\n",
        " A probability mass function (PMF) is a function that gives the probability that a discrete random variable is exactly equal to some value. Sometimes it is also known as the discrete density function.\n",
        "\n",
        " ![Pmd](https://upload.wikimedia.org/wikipedia/commons/thumb/8/85/Discrete_probability_distrib.svg/440px-Discrete_probability_distrib.svg.png)\n",
        "\n",
        " ## Cumulative Distribution Function (CDF)\n",
        "\n",
        " A cumulative distribution function (CDF) of a random variable ${\\displaystyle X}$ , or just distribution function of ${\\displaystyle X}$, evaluated at ${\\displaystyle x}$, is the probability that ${\\displaystyle X}$ will take a value less than or equal to ${\\displaystyle x}$.\n",
        "\n",
        " ![CDF](https://upload.wikimedia.org/wikipedia/commons/thumb/f/fb/Discrete_probability_distribution.svg/440px-Discrete_probability_distribution.svg.png)\n",
        "\n",
        " ## Inverse distribution function (quantile function)\n",
        "\n",
        " The quantile function, associated with a probability distribution of a random variable, specifies the value of the random variable such that the probability of the variable being less than or equal to that value equals the given probability. It is also called the percent-point function or inverse cumulative distribution function.\n",
        "\n",
        " ![Quantile function](https://upload.wikimedia.org/wikipedia/commons/thumb/5/55/Quantile_distribution_function.svg/440px-Quantile_distribution_function.svg.png)\n",
        "\n",
        " [Wikipedia](https://en.wikipedia.org/wiki/Quantile_function)\n",
        "\n",
        " ## Example\n",
        "\n",
        " Here is an intuitive explanation:\n",
        " [Quora](https://www.quora.com/What-is-an-intuitive-explanation-of-inverse-transform-sampling-method-in-statistics-and-how-does-it-relate-to-cumulative-distribution-function)\n",
        "\n",
        " P(Weak)=0.2 ,  P(Standard)=0.7,   P(Strong) = 0.1\n",
        "\n",
        "\n",
        " ![image](https://qph.fs.quoracdn.net/main-qimg-f7053445ffad6cc469aa9276b91c9153-c)\n",
        "\n",
        " ## Continuous Probability Distribution\n",
        "\n",
        " A continuous probability distribution is a probability distribution whose support is an uncountable set, such as an interval in the real line. They are uniquely characterized by a cumulative distribution function that can be used to calculate the probability for each subset of the support. There are many examples of continuous probability distributions: normal, uniform, chi-squared, and others.\n",
        "\n",
        " ## Probability Density Function (PDF)\n",
        "\n",
        " A probability density function (PDF), or density of a continuous random variable, is a function whose value at any given sample (or point) in the sample space (the set of possible values taken by the random variable) can be interpreted as providing a relative likelihood that the value of the random variable would equal that sample. (Wikipedia)\n",
        "\n",
        " ![image](http://work.thaslwanter.at/Stats/html/_images/PDF.png)\n",
        "\n",
        " # Inverse Transform Sampling\n",
        "\n",
        " Inverse transform sampling is a basic method for pseudo-random number sampling, i.e., for generating sample numbers at random from any probability distribution given its cumulative distribution function.\n",
        "\n",
        " \n",
        " ![image](https://d3i71xaburhd42.cloudfront.net/971ee627f5514239531865dcb862f915bde5cae5/2-Figure34.1-1.png)\n",
        "\n",
        " ## Example: Bernoulli Distribution\n",
        "\n"
      ]
    },
    {
      "cell_type": "markdown",
      "metadata": {
        "id": "sdCI5aXe26Kk"
      },
      "source": [
        "## Theorem\n",
        "\n",
        "Reference: Machine Learning - A Probabilistic Perspective, Kevin P. Murphy, Page 818\n",
        "\n",
        "If $U\\sim U(0,1)$ is a uniform random variable, then $F^{-1}(U)\\sim F$\n",
        "\n",
        "Proof: \n",
        "\n",
        "$Pr(F^{-1}(U) \\le x) = Pr(U \\le F(x))$, applying F to both sides\n",
        "\n",
        "$=F(x)$, because $Pr(U \\le y)=y$\n",
        "\n",
        "The first line follows since F is a monotonic function and the second line follows since U is uniform on the unit interval."
      ]
    },
    {
      "cell_type": "markdown",
      "metadata": {
        "id": "rb6-cxbJ7jn9"
      },
      "source": [
        "## Example\n",
        "\n",
        "The probability density function (pdf) of an exponential distribution is\n",
        "\n",
        "${\\displaystyle f(x;\\lambda )={\\begin{cases}\\lambda e^{-\\lambda x}&x\\geq 0,\\\\0&x<0.\\end{cases}}}$\n",
        "\n",
        "Here λ > 0 is the parameter of the distribution\n",
        "\n",
        "The cumulative distribution function is given by\n",
        "\n",
        "${\\displaystyle F(x;\\lambda )={\\begin{cases}1-e^{-\\lambda x}&x\\geq 0,\\\\0&x<0.\\end{cases}}}$\n",
        "\n",
        "The inverse cumulative function is\n",
        "\n",
        "${\\displaystyle F^{-1}(p)={\\begin{cases} {\\tfrac {-ln(1-p)}{\\lambda}} &x\\geq 0,\\\\0&x<0.\\end{cases}}}$"
      ]
    },
    {
      "cell_type": "code",
      "metadata": {
        "colab": {
          "base_uri": "https://localhost:8080/"
        },
        "id": "2q0oe2wy-XIk",
        "outputId": "993122a4-7855-4924-e970-378e6e8573e2"
      },
      "source": [
        "import numpy as np\n",
        "                                     \n",
        "lambda_1 = 2                                 \n",
        "U=np.random.random(10000)            \n",
        "X=-np.log(1-U)/lambda_1\n",
        "np.mean(X)\n",
        "\n",
        "\n"
      ],
      "execution_count": null,
      "outputs": [
        {
          "output_type": "execute_result",
          "data": {
            "text/plain": [
              "0.49518234988983334"
            ]
          },
          "metadata": {
            "tags": []
          },
          "execution_count": 1
        }
      ]
    },
    {
      "cell_type": "code",
      "metadata": {
        "id": "LQxOBcrOoYt4"
      },
      "source": [
        "## Exercise.         \n",
        "\n",
        "# is f(x) = 4*x on the interval [0,1] a density function? if not, what is the normalizing factor?\n",
        "# What is the CDF?\n",
        "# What is the inverse CDF?\n",
        "# Use inverse sampling to estimate the expectation of the distribution"
      ],
      "execution_count": null,
      "outputs": []
    },
    {
      "cell_type": "code",
      "metadata": {
        "colab": {
          "base_uri": "https://localhost:8080/"
        },
        "id": "_RYJp8OPHcah",
        "outputId": "5a774951-c0b8-41f6-ab44-6c9109af29c9"
      },
      "source": [
        "import numpy as np\n",
        "\n",
        "# random numbers from a Bernoulli distribution (binary outcome) e.g., tossing a  coin heads/tails 10 times\n",
        "\n",
        " # 0----------p---1\n",
        "                                 #.....\n",
        "def bern(p):\n",
        "  r = np.random.uniform(0,1)\n",
        "  if r < p:\n",
        "    return 1\n",
        "  else:\n",
        "    return 0\n",
        "\n",
        "size = 10\n",
        "for i in range(size):\n",
        "  coin = bern(0.5)  # fair coin\n",
        "  print(coin)"
      ],
      "execution_count": null,
      "outputs": [
        {
          "output_type": "stream",
          "text": [
            "0\n",
            "0\n",
            "0\n",
            "1\n",
            "1\n",
            "0\n",
            "1\n",
            "0\n",
            "1\n",
            "0\n"
          ],
          "name": "stdout"
        }
      ]
    },
    {
      "cell_type": "code",
      "metadata": {
        "colab": {
          "base_uri": "https://localhost:8080/"
        },
        "id": "v4PJzlz6WDRW",
        "outputId": "9ae42438-cb5b-4c00-e3a2-bbe4d11044e5"
      },
      "source": [
        "# off-the-shelf use of a library\n",
        "from scipy.stats import bernoulli\n",
        "size = 10\n",
        "for i in range(size):\n",
        "  coin = bernoulli.rvs(0.5)  # fair coin\n",
        "  print(coin)"
      ],
      "execution_count": null,
      "outputs": [
        {
          "output_type": "stream",
          "text": [
            "1\n",
            "1\n",
            "0\n",
            "0\n",
            "0\n",
            "0\n",
            "0\n",
            "1\n",
            "0\n",
            "0\n"
          ],
          "name": "stdout"
        }
      ]
    },
    {
      "cell_type": "markdown",
      "metadata": {
        "id": "faE-HPa5XFjq"
      },
      "source": [
        "## Example: Binomial Distribution"
      ]
    },
    {
      "cell_type": "code",
      "metadata": {
        "colab": {
          "base_uri": "https://localhost:8080/"
        },
        "id": "-8p4na72XK8x",
        "outputId": "f71f6fad-c765-4258-a358-db94ad6f3e10"
      },
      "source": [
        "# Binomial distribution: binomial random variable counts the number of heads or positives or successes x in n repeated trials of a binomial experiment\n",
        "# Example: simulation of the number of heads and tails by tossing a fair coin 10 times\n",
        "def bern(p):\n",
        "  r = np.random.uniform(0,1)\n",
        "  if r < p:\n",
        "    return 1\n",
        "  else:\n",
        "    return 0                     \n",
        "\n",
        "size = 10\n",
        "x = [0,1]\n",
        "y = [0,0]\n",
        "\n",
        "for i in range(size):\n",
        "  index = bern(0.5)\n",
        "  y[index] +=1\n",
        "\n",
        "print(y)\n"
      ],
      "execution_count": null,
      "outputs": [
        {
          "output_type": "stream",
          "text": [
            "[4, 6]\n"
          ],
          "name": "stdout"
        }
      ]
    },
    {
      "cell_type": "markdown",
      "metadata": {
        "id": "w2iaVC48YZSX"
      },
      "source": [
        "<img src='https://www.onlinemathlearning.com/image-files/binomial-distribution-formula.png'>"
      ]
    },
    {
      "cell_type": "code",
      "metadata": {
        "colab": {
          "base_uri": "https://localhost:8080/"
        },
        "id": "zjQMrqIHYxYR",
        "outputId": "26eee11e-5cb1-4c02-e41e-1f3063516356"
      },
      "source": [
        "# Bernoulli as a special case of Binomial                     \n",
        "                                                             \n",
        "from scipy.stats import binom\n",
        "\n",
        "size = 10\n",
        "for i in range(size):\n",
        "  coin = binom.rvs(1,0.5, size=1)  # fair coin       \n",
        "  print(coin)"
      ],
      "execution_count": null,
      "outputs": [
        {
          "output_type": "stream",
          "text": [
            "[0]\n",
            "[0]\n",
            "[0]\n",
            "[0]\n",
            "[1]\n",
            "[0]\n",
            "[1]\n",
            "[1]\n",
            "[1]\n",
            "[0]\n"
          ],
          "name": "stdout"
        }
      ]
    },
    {
      "cell_type": "markdown",
      "metadata": {
        "id": "V8NbZHU3ZTqv"
      },
      "source": [
        "## Example: Categorical Distribution\n",
        "\n",
        "A categorical distribution (also called a generalized Bernoulli distribution, multinoulli distribution) is a discrete probability distribution that describes the possible results of a random variable that can take on one of K possible categories, with the probability of each category separately specified.(Wikipedia)"
      ]
    },
    {
      "cell_type": "code",
      "metadata": {
        "colab": {
          "base_uri": "https://localhost:8080/"
        },
        "id": "hjJABAUbZSUV",
        "outputId": "c6680390-73db-4e91-a0c9-1caafa732644"
      },
      "source": [
        "# Example: random outcomes of a die tossed 10 times\n",
        "\n",
        "# 0-------p1--p1+p2------p1+p2+p3-------p1+p2+p3+p4----p1+p2+p3+p4+p5------1\n",
        "\n",
        "def categ(p1,p2,p3,p4,p5,p6):\n",
        "  r = np.random.uniform(0,1)\n",
        "  if r < p1:\n",
        "    return 1\n",
        "  elif r < p1 + p2:\n",
        "    return 2\n",
        "  elif r < p1 + p2 + p3:\n",
        "    return 3\n",
        "  elif r < p1 + p2 + p3 + p4:\n",
        "    return 4\n",
        "  elif r < p1 + p2 + p3 + p4 + p5:\n",
        "    return 5\n",
        "  else: return 6\n",
        "\n",
        "size = 10\n",
        "for i in range(size):\n",
        "  dice = categ(1/6,1/6, 1/6, 1/6, 1/6, 1/6)  # fair die\n",
        "  print(dice)"
      ],
      "execution_count": null,
      "outputs": [
        {
          "output_type": "stream",
          "text": [
            "5\n",
            "2\n",
            "3\n",
            "4\n",
            "3\n",
            "3\n",
            "4\n",
            "2\n",
            "5\n",
            "3\n"
          ],
          "name": "stdout"
        }
      ]
    },
    {
      "cell_type": "markdown",
      "metadata": {
        "id": "WXlVfd8IbCce"
      },
      "source": [
        "## Multinomial Distribution\n",
        "\n"
      ]
    },
    {
      "cell_type": "code",
      "metadata": {
        "colab": {
          "base_uri": "https://localhost:8080/"
        },
        "id": "AygaXqDSbZkK",
        "outputId": "d2d2de87-9351-4583-afdb-7ca48c809663"
      },
      "source": [
        "# Multinomial distribution is the generalization of the binomial distribution when the categorical variable has more than two outcomes\n",
        "# Example: Simulation of the number  of times each side of a fair die shows up if the die is tossed 10 times\n",
        "\n",
        "\n",
        "y = [0,0,0,0,0,0,0] # initialize count to zero\n",
        "size = 10\n",
        "\n",
        "for i in range(size):\n",
        "  dice = categ(1/6,1/6, 1/6, 1/6, 1/6, 1/6)\n",
        "  y[dice] += 1\n",
        "  \n",
        "print(y[1:])"
      ],
      "execution_count": null,
      "outputs": [
        {
          "output_type": "stream",
          "text": [
            "[0, 4, 2, 1, 1, 2]\n"
          ],
          "name": "stdout"
        }
      ]
    },
    {
      "cell_type": "markdown",
      "metadata": {
        "id": "u8uN13OQbnuB"
      },
      "source": [
        "Probability of multinomial distribution\n",
        "\n",
        "# $\\frac{n!}{x_1!\\cdots x_k!} p_1^{x_1} \\cdots p_k^{x_k}$\n"
      ]
    },
    {
      "cell_type": "markdown",
      "metadata": {
        "id": "v7zUEoQMFBcA"
      },
      "source": [
        "## Beta Distribution\n",
        "\n",
        "The beta distribution is a family of continuous probability distributions defined on the interval [0, 1] parameterized by two positive shape parameters, denoted by α and β, that appear as exponents of the random variable and control the shape of the distribution. The generalization to multiple variables is called a Dirichlet distribution.\n",
        "\n",
        "In Bayesian inference, the beta distribution is the conjugate prior probability distribution for the Bernoulli, binomial, negative binomial and geometric distributions. The beta distribution is a suitable model for the random behavior of percentages and proportions.\n",
        "\n",
        "The probability density function (pdf) of the beta distribution, for 0 ≤ x ≤ 1, and shape parameters α, β > 0, is a power function of the variable x and of its reflection (1 − x) as follows:\n",
        "\n",
        "${\\displaystyle {\\begin{aligned}f(x;\\alpha ,\\beta )&=\\mathrm {constant} \\cdot x^{\\alpha -1}(1-x)^{\\beta -1}\\\\[3pt]&={\\frac {x^{\\alpha -1}(1-x)^{\\beta -1}}{\\displaystyle \\int _{0}^{1}u^{\\alpha -1}(1-u)^{\\beta -1}\\,du}}\\\\[6pt]&={\\frac {\\Gamma (\\alpha +\\beta )}{\\Gamma (\\alpha )\\Gamma (\\beta )}}\\,x^{\\alpha -1}(1-x)^{\\beta -1}\\\\[6pt]&={\\frac {1}{\\mathrm {B} (\\alpha ,\\beta )}}x^{\\alpha -1}(1-x)^{\\beta -1}\\end{aligned}}}$\n",
        "\n",
        "where Γ(z) is the gamma function.\n",
        "\n",
        "![image](https://upload.wikimedia.org/wikipedia/commons/7/78/PDF_of_the_Beta_distribution.gif)"
      ]
    },
    {
      "cell_type": "markdown",
      "metadata": {
        "id": "BHsIbVKBUDI4"
      },
      "source": [
        "## numpy.random.beta"
      ]
    },
    {
      "cell_type": "markdown",
      "metadata": {
        "id": "On00oUT61Ioc"
      },
      "source": [
        "## Dirichlet distribution\n",
        "\n",
        "The Dirichlet distribution  ${\\displaystyle \\operatorname {Dir} ({\\boldsymbol {\\alpha }})})$, is a family of continuous multivariate probability distributions parameterized by a vector ${\\displaystyle {\\boldsymbol {\\alpha }}}$ of positive reals.\n",
        "\n",
        "The Dirichlet distribution of order K ≥ 2 with parameters α1, ..., αK > 0 has a probability density function  given by\n",
        "\n",
        "${\\displaystyle f\\left(x_{1},\\ldots ,x_{K};\\alpha _{1},\\ldots ,\\alpha _{K}\\right)={\\frac {1}{\\mathrm {B} ({\\boldsymbol {\\alpha }})}}\\prod _{i=1}^{K}x_{i}^{\\alpha _{i}-1}}$\n",
        "where ${\\displaystyle \\{x_{k}\\}_{k=1}^{k=K}}$ belong to the standard ${\\displaystyle K-1}$ simplex, or in other words: ${\\displaystyle \\sum _{i=1}^{K}x_{i}=1{\\mbox{ and }}x_{i}\\geq 0{\\mbox{ for all }}i\\in \\{1,\\dots ,K\\}}$\n",
        "The normalizing constant is the multivariate beta function, which can be expressed in terms of the gamma function:\n",
        "\n",
        "${\\displaystyle \\mathrm {B} ({\\boldsymbol {\\alpha }})={\\frac {\\prod _{i=1}^{K}\\Gamma (\\alpha _{i})}{\\Gamma \\left(\\sum _{i=1}^{K}\\alpha _{i}\\right)}},\\qquad {\\boldsymbol {\\alpha }}=(\\alpha _{1},\\ldots ,\\alpha _{K}).}$\n",
        "\n",
        "![image](https://upload.wikimedia.org/wikipedia/commons/thumb/7/74/Dirichlet.pdf/page1-1500px-Dirichlet.pdf.jpg)"
      ]
    },
    {
      "cell_type": "markdown",
      "metadata": {
        "id": "BEkj8urPUKYm"
      },
      "source": [
        "## np.random.dirichlet()"
      ]
    },
    {
      "cell_type": "code",
      "metadata": {
        "id": "L6JHptMdUWlO"
      },
      "source": [
        "## Exercise\n",
        "def categ3(p1,p2,p3):\n",
        "  r = np.random.uniform(0,1)\n",
        "  if r < p1:\n",
        "    return 1\n",
        "  elif r < p1 + p2:\n",
        "    return 2\n",
        "  else: return 3\n",
        "\n",
        "d1 = np.random.dirichlet((1/100, 1/100, 1/100), 1) ## one die/dice\n",
        "\n",
        "# Get 10 samples from d1 using the function categ3\n",
        "\n",
        "d2 = np.random.dirichlet((100, 100, 100), 1)\n",
        "\n",
        "# Get 10 samples from d2\n",
        "\n",
        "# What is the difference between the samples from d1 and the samples from d2? \n",
        "# How is it related to the parameters of the dirichlet distribution?"
      ],
      "execution_count": null,
      "outputs": []
    },
    {
      "cell_type": "markdown",
      "metadata": {
        "id": "tGyD-Te8cLyr"
      },
      "source": [
        "## Summary\n",
        "\n",
        "\n",
        "Bernoulli has two outcomes, e.g., Success(1) with probaility p and Failure(0) with probabilty 1- p. \n",
        "\n",
        "Binomial is about the count of number of successes in N trials. It is the sum of the Bernoullis (ones and zeros)\n",
        "\n",
        "Categorical has more than two discrete outcomes with probabilities p1, p2, p3, ....\n",
        "\n",
        "Multinomial is about the count of each category.\n",
        "\n",
        "Bernoulli is a special case of categorical \n",
        "\n",
        "Binomial is a special case of multinomial\n",
        "\n",
        "Beta is a distribution on distributions (Bernoulli)\n",
        "\n",
        "Dirichlet is a distribution on distributions (Categorical)\n",
        "\n",
        "Beta is a special case of Dirichlet"
      ]
    },
    {
      "cell_type": "markdown",
      "metadata": {
        "id": "-j4W_aJVuZJC"
      },
      "source": [
        "## Monte Carlo Methods\n",
        "\n",
        "Monte Carlo methods, or Monte Carlo experiments, are a broad class of computational algorithms that rely on repeated random sampling to obtain numerical results. The underlying concept is to use randomness to solve problems that might be deterministic in principle. \n",
        "\n",
        "[Wikipedia](https://en.wikipedia.org/wiki/Monte_Carlo_method)\n",
        "\n",
        "### Example\n",
        "\n",
        "For example, consider a quadrant (circular sector) inscribed in a unit square. Given that the ratio of their areas is \n",
        "π\n",
        "/\n",
        "4\n",
        ", the value of π can be approximated using a Monte Carlo method:\n",
        "\n",
        "1. Draw a square, then inscribe a quadrant within it\n",
        "2. Uniformly scatter a given number of points over the square\n",
        "3. Count the number of points inside the quadrant, i.e. having a distance from the origin of less than 1\n",
        "\n",
        "The ratio of the inside-count and the total-sample-count is an estimate of the ratio of the two areas, \n",
        "π\n",
        "/\n",
        "4\n",
        ". Multiply the result by 4 to estimate π.\n",
        "\n",
        "![image](https://upload.wikimedia.org/wikipedia/commons/thumb/8/84/Pi_30K.gif/440px-Pi_30K.gif)\n",
        "\n"
      ]
    },
    {
      "cell_type": "code",
      "metadata": {
        "id": "WxkCxaAY5nZG"
      },
      "source": [
        "import scipy\n",
        "\n",
        "N = 100000\n",
        "x_array = scipy.random.rand(N)\n",
        "y_array = scipy.random.rand(N)\n",
        "# generate N pseudorandom independent x and y-values on interval [0,1)\n",
        "N_qtr_circle = sum(x_array ** 2 + y_array ** 2 < 1)\n",
        "# Number of pts within the quarter circle x^2 + y^2 < 1 centered at the origin with radius r=1.\n",
        "# True area of quarter circle is pi/4 and has N_qtr_circle points within it.\n",
        "# True area of the square is 1 and has N points within it, hence we approximate pi with\n",
        "pi_approx = 4 * float(N_qtr_circle) / N  # Typical values: 3.13756, 3.15156"
      ],
      "execution_count": null,
      "outputs": []
    },
    {
      "cell_type": "markdown",
      "metadata": {
        "id": "os_pRzVL8CZF"
      },
      "source": [
        "## Integration Issues\n",
        "\n",
        "If an elementary function is differentiable, we can explicitly output its derivative (e.g., autodiff). Most integrable functions don't have elementary antiderivative (e.g., $exp(-x^2)$ ). If the denominator in Bayes formula is an integral, it could be intractable\n",
        "\n",
        "## Monte Carlo approaches\n",
        "\n",
        "$$E_p[f(x)] = \\int f(x)p(x) dx \\approx \\frac{1}{n}\\sum_{i} f(x_i)$$   $$x_i \\sim p(x)$$\n",
        "\n"
      ]
    },
    {
      "cell_type": "markdown",
      "metadata": {
        "id": "oof_mgqirNVk"
      },
      "source": [
        "## Rejection Sampling\n",
        "\n",
        "If we don't have CDF or cannot invert the CDF, then rejection sampling can be used, at least for lower dimensional spaces.\n",
        "\n",
        "The algorithm (used by John von Neumann and dating back to Buffon and his needle) to obtain a sample from distribution ${\\displaystyle X}$ with density ${\\displaystyle f}$ using samples from distribution ${\\displaystyle Y}$ with density ${\\displaystyle g}$ is as follows:\n",
        "\n",
        "Obtain a sample ${\\displaystyle y}$ from distribution ${\\displaystyle Y}$ and a sample ${\\displaystyle u}$ from ${\\displaystyle \\mathrm {Unif} (0,1)}$  (the uniform distribution over the unit interval).\n",
        "Check whether or not ${\\textstyle u<f(y)/Mg(y)}$.\n",
        "If this holds, accept ${\\displaystyle y}$ as a sample drawn from ${\\displaystyle f}$;\n",
        "if not, reject the value of ${\\displaystyle y}$ and return to the sampling step.\n",
        "The algorithm will take an average of ${\\displaystyle M}$ iterations to obtain a sample.\n",
        "\n"
      ]
    },
    {
      "cell_type": "code",
      "metadata": {
        "id": "84G7uGMPwp3H"
      },
      "source": [
        "import numpy as np\n",
        "import matplotlib.pyplot as plt\n",
        "from scipy.stats import pearsonr"
      ],
      "execution_count": null,
      "outputs": []
    },
    {
      "cell_type": "markdown",
      "metadata": {
        "id": "y3cQZoaXH7bB"
      },
      "source": [
        "## Example\n",
        "\n",
        "Standard Normal Distribution $\\tilde{p}(x)=e^{-x^{2}/2}$ without the normalizing denominator $Z={\\frac {1}{\\sqrt {2\\pi }}}$\n",
        "\n",
        "$p(x)={\\frac {\\tilde{p}(x)} {Z}}$"
      ]
    },
    {
      "cell_type": "code",
      "metadata": {
        "id": "4NaDV35XwvsM"
      },
      "source": [
        "# We want to sample from this distribution, assuming the denominator is difficult to integrate\n",
        "def p_tilde(x):\n",
        "    return np.exp(-x**2/2)\n"
      ],
      "execution_count": null,
      "outputs": []
    },
    {
      "cell_type": "code",
      "metadata": {
        "id": "iOtzBz8lwz5z"
      },
      "source": [
        "# Here is a function (standard normal) easy to sample from. It gives us proposals\n",
        "# For simplicity we chose p_tilde / Z as q\n",
        "def q(x):\n",
        "    return np.exp(-x**2/2)/np.sqrt(2*np.pi)\n",
        "    "
      ],
      "execution_count": null,
      "outputs": []
    },
    {
      "cell_type": "markdown",
      "metadata": {
        "id": "x2q-4mdew7YI"
      },
      "source": [
        "# Target Distribution "
      ]
    },
    {
      "cell_type": "code",
      "metadata": {
        "colab": {
          "base_uri": "https://localhost:8080/",
          "height": 410
        },
        "id": "579_poyaxEQK",
        "outputId": "94f82a8b-84ec-4308-bbd8-cc8596725864"
      },
      "source": [
        "M=10\n",
        "denominator = np.sqrt(2*np.pi)\n",
        "\n",
        "xvals = np.arange(-4,4,.1)\n",
        "p_tilde_vals = [p_tilde(x) for x in xvals]\n",
        "qvals = [M*p/denominator for p in p_tilde_vals]\n",
        "\n",
        "plt.figure(figsize=(8,6))\n",
        "plt.plot(xvals, p_tilde_vals)\n",
        "plt.plot(xvals, qvals)\n",
        "plt.legend(['p_tilde(x)', 'Mq(x)'], fontsize=15)\n",
        "plt.xlabel('x', fontsize=15)\n",
        "plt.ylabel('p_tilde(x)', fontsize=15)\n"
      ],
      "execution_count": null,
      "outputs": [
        {
          "output_type": "execute_result",
          "data": {
            "text/plain": [
              "Text(0, 0.5, 'p_tilde(x)')"
            ]
          },
          "metadata": {
            "tags": []
          },
          "execution_count": 13
        },
        {
          "output_type": "display_data",
          "data": {
            "image/png": "[encoded data removed]",
            "text/plain": [
              "<Figure size 576x432 with 1 Axes>"
            ]
          },
          "metadata": {
            "tags": [],
            "needs_background": "light"
          }
        }
      ]
    },
    {
      "cell_type": "code",
      "metadata": {
        "id": "mEmreONpoTfQ"
      },
      "source": [
        "\n",
        "denominator = np.sqrt(2*np.pi) # we know it this time but it could be an intractable integral\n",
        "M=10\n",
        "\n",
        "# proposals accepted\n",
        "accepted = []\n",
        "\n",
        "\n",
        "N = 1000000 # proposals\n",
        "\n",
        "for _ in range(N):\n",
        "    proposal = np.random.normal(0, 1)\n",
        "    \n",
        "    prob_accept = p_tilde(proposal) / (M*q(proposal))\n",
        "\n",
        "    if np.random.random() < prob_accept:\n",
        "        accepted.append(proposal)"
      ],
      "execution_count": null,
      "outputs": []
    },
    {
      "cell_type": "code",
      "metadata": {
        "colab": {
          "base_uri": "https://localhost:8080/"
        },
        "id": "fVqRjTZJqvHz",
        "outputId": "3ae08e9e-1792-4147-fe17-21b80fa727e5"
      },
      "source": [
        "print(np.mean(accepted))\n",
        "print(np.var(accepted))\n",
        "len(accepted)"
      ],
      "execution_count": null,
      "outputs": [
        {
          "output_type": "stream",
          "text": [
            "0.002990957644427239\n",
            "1.00051595341158\n"
          ],
          "name": "stdout"
        },
        {
          "output_type": "execute_result",
          "data": {
            "text/plain": [
              "250428"
            ]
          },
          "metadata": {
            "tags": []
          },
          "execution_count": 15
        }
      ]
    },
    {
      "cell_type": "code",
      "metadata": {
        "colab": {
          "base_uri": "https://localhost:8080/"
        },
        "id": "DBmPj0lhq2Et",
        "outputId": "533d5ed5-98aa-45d8-f97a-4312478fba18"
      },
      "source": [
        "(len(accepted) / N)*100"
      ],
      "execution_count": null,
      "outputs": [
        {
          "output_type": "execute_result",
          "data": {
            "text/plain": [
              "25.0428"
            ]
          },
          "metadata": {
            "tags": []
          },
          "execution_count": 16
        }
      ]
    },
    {
      "cell_type": "markdown",
      "metadata": {
        "id": "ik36UokHsGa_"
      },
      "source": [
        "## Drawbacks\n",
        "\n",
        "Rejection sampling can lead to a lot of unwanted samples being taken if the function being sampled is highly concentrated in a certain region, for example a function that has a spike at some location. \n",
        "\n",
        "Large M --> few accepted\n",
        "\n",
        "![image](https://theclevermachine.files.wordpress.com/2012/09/rejectionsamplingcriterion.png?w=584)\n",
        "\n"
      ]
    },
    {
      "cell_type": "code",
      "metadata": {
        "id": "uG-eTl_fcD6y"
      },
      "source": [
        "# Exercises:\n",
        "## f(1) = 1, f(2) =2, f(3) = 3. Is f(x) a pmf? if not, what is the normalizing constant?\n",
        "\n",
        "\n",
        "## is f(x) = 4*x on the interval [0,1] a density function? if not, what is the normalizing factor?\n",
        "## choose g(x) = 1 as the proposal distribution\n",
        "## Choose M=4 and M=10 to compare the wasted samples\n",
        "\n",
        "# proposals accepted\n",
        "accepted = []\n",
        "\n",
        "M=10\n",
        "\n",
        "N = 1000000 # proposals\n",
        "\n",
        "for _ in range(N):\n",
        "    proposal = np.random.random()\n",
        "    \n",
        "    prob_accept = 4*proposal / M*1 # y ~ q(y), prop_accept = 𝑓(𝑦)/𝑀𝑔(𝑦)\n",
        "                                   # f(y) = 4*y, g(y)=1, M =10\n",
        "    u = np.random.random()\n",
        "    if u  < prob_accept:\n",
        "        accepted.append(proposal)\n",
        "\n"
      ],
      "execution_count": null,
      "outputs": []
    },
    {
      "cell_type": "code",
      "metadata": {
        "colab": {
          "base_uri": "https://localhost:8080/"
        },
        "id": "deaoHro0eQS-",
        "outputId": "e1959c92-1b25-449b-da83-ff58293df09a"
      },
      "source": [
        "print(np.mean(accepted))\n",
        "print(np.var(accepted))\n",
        "len(accepted)"
      ],
      "execution_count": null,
      "outputs": [
        {
          "output_type": "stream",
          "text": [
            "0.6675852172604363\n",
            "0.055471605869961006\n"
          ],
          "name": "stdout"
        },
        {
          "output_type": "execute_result",
          "data": {
            "text/plain": [
              "199125"
            ]
          },
          "metadata": {
            "tags": []
          },
          "execution_count": 123
        }
      ]
    },
    {
      "cell_type": "markdown",
      "metadata": {
        "id": "WLg5Q2Cit-fN"
      },
      "source": [
        "## Importance Sampling\n",
        "\n",
        "Importance sampling is a general technique for estimating properties of a particular distribution, while only having samples generated from a different distribution than the distribution of interest. \n",
        "\n",
        "The basic idea of importance sampling is to sample the states from a different distribution to lower the variance of the estimation of E[X;P], or when sampling from P is difficult.\n",
        "\n",
        "$$E_p[f(x)] = \\int f(x)p(x) dx = \\int f(x)\\frac{p(x)}{q(x)}q(x) dx \\approx \\frac{1}{n} \\sum_{i} f(x_i)\\frac{p(x_i)}{q(x_i)}$$\n",
        "\n",
        "$$ x_i \\sim q(x)$$\n",
        "\n"
      ]
    },
    {
      "cell_type": "markdown",
      "metadata": {
        "id": "XBQ41AT7f1gB"
      },
      "source": [
        "## Example\n",
        "\n",
        "Let the dashed curve be standard normal N(0,1) with density p(x) and t_1 = 1.96, then p(t>t_1) = 0.025. Let f(x) = 1 if x > 1.96 and 0 otherwise\n",
        "\n",
        "The solid curve is N(3,1) with density q(x).\n",
        "\n",
        "\n",
        "![image](https://www.researchgate.net/profile/Christine-Strauss-2/publication/220669034/figure/fig1/AS:341401574363140@1458407886431/Probability-Shift-in-Importance-Sampling-4-Importance-Sampling-The-estimate-4-is.png)  "
      ]
    },
    {
      "cell_type": "code",
      "metadata": {
        "colab": {
          "base_uri": "https://localhost:8080/"
        },
        "id": "h_1pQVjfj-D9",
        "outputId": "3a86e777-b438-44d7-beae-a5ae80e5c17c"
      },
      "source": [
        "# sampling from the p(x)\n",
        "values = []\n",
        "N = 1000000 # proposals\n",
        "\n",
        "f = lambda x:x>1.96\n",
        "\n",
        "## Sample from p\n",
        "proposals = np.random.normal(loc=0,scale=1,size=N)\n",
        "values = f(proposals)\n",
        "print(\"average {} variance {}\".format(np.mean(values), np.var(values)))"
      ],
      "execution_count": null,
      "outputs": [
        {
          "output_type": "stream",
          "text": [
            "average 0.025196 variance 0.024561161584\n"
          ],
          "name": "stdout"
        }
      ]
    },
    {
      "cell_type": "code",
      "metadata": {
        "colab": {
          "base_uri": "https://localhost:8080/"
        },
        "id": "sNYzWp8KGCcZ",
        "outputId": "ffa6424f-48a3-4173-fc79-2c700d4a9dd6"
      },
      "source": [
        "# sampling from q(x) results less variance\n",
        "\n",
        "from scipy import stats\n",
        "f = lambda x:x>1.96\n",
        "p = lambda x : stats.norm().pdf(x)\n",
        "q = lambda x : stats.norm(loc=3,scale=1).pdf(x)\n",
        "\n",
        "values = []\n",
        "N = 1000000 # proposals\n",
        "\n",
        "## Sample from q\n",
        "proposals = np.random.normal(loc=3,scale=1,size=N)\n",
        "    \n",
        "values = f(proposals)*p(proposals)/q(proposals) \n",
        "    \n",
        "\n",
        "print(\"average {} variance {}\".format(np.mean(values), np.var(values)))"
      ],
      "execution_count": null,
      "outputs": [
        {
          "output_type": "stream",
          "text": [
            "average 0.025031757655900575 variance 0.0022310917341863755\n"
          ],
          "name": "stdout"
        }
      ]
    },
    {
      "cell_type": "markdown",
      "metadata": {
        "id": "pQKzRT4NAVJY"
      },
      "source": [
        "## Confusion of multinomial vs categorical\n",
        "\n",
        "In some fields such as natural language processing, categorical and multinomial distributions are synonymous and it is common to speak of a multinomial distribution when a categorical distribution is actually meant. This stems from the fact that it is sometimes convenient to express the outcome of a categorical distribution as a \"1-of-K\" vector (a vector with one element containing a 1 and all other elements containing a 0) rather than as an integer in the range ${\\displaystyle 1\\dots K}$; in this form, a categorical distribution is equivalent to a multinomial distribution over a single trial.\n",
        "\n",
        "[Reference](https://en.wikipedia.org/wiki/Multinomial_distribution)"
      ]
    },
    {
      "cell_type": "code",
      "metadata": {
        "colab": {
          "base_uri": "https://localhost:8080/"
        },
        "id": "s5qCq7HPT-Zr",
        "outputId": "f5a8551d-1056-4471-faa0-add2420e002a"
      },
      "source": [
        "\n",
        "from scipy.stats import multinomial\n",
        "#rv = multinomial(1, [1/6,1/6,1/6,1/6,1/6,1/6])\n",
        "#rv.rvs(1)\n",
        "multinomial.rvs(n=1, p=[1/6,1/6,1/6,1/6,1/6,1/6], size=1)"
      ],
      "execution_count": null,
      "outputs": [
        {
          "output_type": "execute_result",
          "data": {
            "text/plain": [
              "array([[0, 1, 0, 0, 0, 0]])"
            ]
          },
          "metadata": {
            "tags": []
          },
          "execution_count": 21
        }
      ]
    },
    {
      "cell_type": "code",
      "metadata": {
        "colab": {
          "base_uri": "https://localhost:8080/"
        },
        "id": "_LRHrIdzB1xM",
        "outputId": "46c70560-cbc0-4202-cd61-3c098068ff5f"
      },
      "source": [
        "z=np.random.multinomial(1, [1/6.]*6, size=1)\n",
        "print(np.argmax(z))\n",
        "z"
      ],
      "execution_count": null,
      "outputs": [
        {
          "output_type": "stream",
          "text": [
            "0\n"
          ],
          "name": "stdout"
        },
        {
          "output_type": "execute_result",
          "data": {
            "text/plain": [
              "array([[1, 0, 0, 0, 0, 0]])"
            ]
          },
          "metadata": {
            "tags": []
          },
          "execution_count": 22
        }
      ]
    },
    {
      "cell_type": "code",
      "metadata": {
        "colab": {
          "base_uri": "https://localhost:8080/"
        },
        "id": "cKKkrG4fAZln",
        "outputId": "a1e8228b-b860-4a1a-cdf4-0ba8426db067"
      },
      "source": [
        "## We've defined the function categ() above\n",
        "categ(1/6,1/6, 1/6, 1/6, 1/6, 1/6) "
      ],
      "execution_count": null,
      "outputs": [
        {
          "output_type": "execute_result",
          "data": {
            "text/plain": [
              "6"
            ]
          },
          "metadata": {
            "tags": []
          },
          "execution_count": 23
        }
      ]
    },
    {
      "cell_type": "code",
      "metadata": {
        "colab": {
          "base_uri": "https://localhost:8080/"
        },
        "id": "PyOVEa-xC_j3",
        "outputId": "f786258f-daa8-4fe5-e82f-bb66405f1858"
      },
      "source": [
        "np.random.choice( a=[1, 2, 3,4,5,6],  size=1  , p=[1/6, 1/6, 1/6, 1/6,1/6, 1/6]  )                         "
      ],
      "execution_count": null,
      "outputs": [
        {
          "output_type": "execute_result",
          "data": {
            "text/plain": [
              "array([4])"
            ]
          },
          "metadata": {
            "tags": []
          },
          "execution_count": 24
        }
      ]
    }
  ]
}